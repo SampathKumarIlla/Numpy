{
 "cells": [
  {
   "cell_type": "markdown",
   "id": "5b0be887-5446-4153-8185-35239c7dbb89",
   "metadata": {},
   "source": [
    "## 1. Getting familar with Numpy"
   ]
  },
  {
   "cell_type": "markdown",
   "id": "778fcac7-9bc9-4ed6-8b3f-f9066ee5b142",
   "metadata": {},
   "source": [
    "## NumPy’s core functionalities:"
   ]
  },
  {
   "cell_type": "markdown",
   "id": "2ca0dea1-bc5a-480a-b2d6-fdb16971c73d",
   "metadata": {},
   "source": [
    "## Here are some core functionalities as u can see below (They are basic and intermediate functionalities)"
   ]
  },
  {
   "cell_type": "markdown",
   "id": "01a1dbe1-ffda-4e4e-a001-222a1e93da4f",
   "metadata": {},
   "source": []
  },
  {
   "cell_type": "code",
   "execution_count": 12,
   "id": "5d009c38-10dc-4f2a-a70a-7211fa7d2aee",
   "metadata": {},
   "outputs": [
    {
     "name": "stdout",
     "output_type": "stream",
     "text": [
      "[1 2 3]\n"
     ]
    }
   ],
   "source": [
    "import numpy as np\n",
    "\n",
    "# 1. Array Creation\n",
    "# 1D Array\n",
    "array_1d = np.array([1, 2, 3])\n",
    "print(array_1d)"
   ]
  },
  {
   "cell_type": "code",
   "execution_count": 13,
   "id": "ba78b99d-68a5-4874-a05c-4999764b4269",
   "metadata": {},
   "outputs": [
    {
     "name": "stdout",
     "output_type": "stream",
     "text": [
      "[[1 2]\n",
      " [3 4]]\n"
     ]
    }
   ],
   "source": [
    "# 2D Array\n",
    "array_2d = np.array([[1, 2], [3, 4]])\n",
    "print(array_2d)"
   ]
  },
  {
   "cell_type": "code",
   "execution_count": 14,
   "id": "307ce902-9759-4790-9b63-24674679ff97",
   "metadata": {},
   "outputs": [
    {
     "name": "stdout",
     "output_type": "stream",
     "text": [
      "[[0. 0. 0.]\n",
      " [0. 0. 0.]\n",
      " [0. 0. 0.]]\n",
      "\n",
      "\n",
      "[[1. 1.]\n",
      " [1. 1.]]\n"
     ]
    }
   ],
   "source": [
    "# Zeros and Ones\n",
    "zeros_array = np.zeros((3, 3))\n",
    "ones_array = np.ones((2, 2))\n",
    "print(zeros_array)\n",
    "print(\"\\n\")\n",
    "print(ones_array)"
   ]
  },
  {
   "cell_type": "code",
   "execution_count": 11,
   "id": "9e456496-0e88-4455-8c0c-b7dbd192de89",
   "metadata": {},
   "outputs": [
    {
     "name": "stdout",
     "output_type": "stream",
     "text": [
      "[[-6.95208352e-310  3.92860901e-104  1.08134514e-311]\n",
      " [ 1.08134514e-311  5.92878775e-323  7.21335843e-322]]\n"
     ]
    }
   ],
   "source": [
    "# Empty Array\n",
    "empty_array = np.empty((2, 3))\n",
    "print(empty_array)"
   ]
  },
  {
   "cell_type": "markdown",
   "id": "ce88f085-b020-4d22-a0f4-67fb9bdac12b",
   "metadata": {},
   "source": []
  },
  {
   "cell_type": "markdown",
   "id": "e207c927-4684-4cec-886d-3d6146882814",
   "metadata": {},
   "source": [
    "## Performing basic operations"
   ]
  },
  {
   "cell_type": "code",
   "execution_count": 20,
   "id": "fc38e210-c6b1-425b-bc82-6fe580844e3b",
   "metadata": {},
   "outputs": [
    {
     "name": "stdout",
     "output_type": "stream",
     "text": [
      "[3 4 5]\n",
      "[3 6 9]\n"
     ]
    }
   ],
   "source": [
    "# 3. Array Operations\n",
    "# Element-wise Operations\n",
    "sum_array = array_1d + 2\n",
    "product_array = array_1d * 3\n",
    "print(sum_array)\n",
    "print(product_array)"
   ]
  },
  {
   "cell_type": "code",
   "execution_count": 21,
   "id": "4228edba-fff3-4559-a231-c4142bddfa64",
   "metadata": {},
   "outputs": [
    {
     "name": "stdout",
     "output_type": "stream",
     "text": [
      "[[ 7 10]\n",
      " [15 22]]\n"
     ]
    }
   ],
   "source": [
    "# Matrix Multiplication\n",
    "matrix_mult = np.dot(array_2d, array_2d)\n",
    "print(matrix_mult)"
   ]
  },
  {
   "cell_type": "code",
   "execution_count": 22,
   "id": "85419101-1a32-48f8-962e-da370e05f935",
   "metadata": {},
   "outputs": [
    {
     "name": "stdout",
     "output_type": "stream",
     "text": [
      "[[1 3]\n",
      " [2 4]]\n"
     ]
    }
   ],
   "source": [
    "# Transpose\n",
    "transpose_array = np.transpose(array_2d)\n",
    "print(transpose_array)"
   ]
  },
  {
   "cell_type": "code",
   "execution_count": 23,
   "id": "94a10278-9d4f-4dd5-8732-5f44d9cf7700",
   "metadata": {},
   "outputs": [
    {
     "name": "stdout",
     "output_type": "stream",
     "text": [
      "[[1 2]\n",
      " [3 4]]\n"
     ]
    }
   ],
   "source": [
    "# Slicing and Indexing\n",
    "slice_array = array_2d[0:2, 0:2]\n",
    "print(slice_array)"
   ]
  },
  {
   "cell_type": "code",
   "execution_count": 24,
   "id": "036b034f-165f-4d30-840d-5d86cd61bd70",
   "metadata": {},
   "outputs": [
    {
     "name": "stdout",
     "output_type": "stream",
     "text": [
      "[[1]\n",
      " [2]\n",
      " [3]]\n"
     ]
    }
   ],
   "source": [
    "# Reshape\n",
    "reshaped_array = array_1d.reshape((3, 1))\n",
    "print(reshaped_array)"
   ]
  },
  {
   "cell_type": "markdown",
   "id": "0b5d4bb3-4a4a-4a4c-b679-cc2b8e8cfc6d",
   "metadata": {},
   "source": []
  },
  {
   "cell_type": "markdown",
   "id": "05fbf63b-b7a2-45eb-a660-0a5215294743",
   "metadata": {},
   "source": [
    "##  Understanding array properties"
   ]
  },
  {
   "cell_type": "markdown",
   "id": "a80e6f9e-7671-4bac-93f8-39d0e17308d3",
   "metadata": {},
   "source": []
  },
  {
   "cell_type": "code",
   "execution_count": 25,
   "id": "f3d87562-7607-4248-8bc8-f246f92a3430",
   "metadata": {},
   "outputs": [
    {
     "name": "stdout",
     "output_type": "stream",
     "text": [
      "(3, 3)\n"
     ]
    }
   ],
   "source": [
    "import numpy as np\n",
    "array = np.array([[1, 2, 3], [4, 5, 6], [7, 8, 9]])\n",
    "print(array.shape)  # Output: (3, 3)\n"
   ]
  },
  {
   "cell_type": "code",
   "execution_count": 26,
   "id": "606baab5-d97a-4799-9a71-3bdbae8f0ee0",
   "metadata": {},
   "outputs": [
    {
     "name": "stdout",
     "output_type": "stream",
     "text": [
      "2\n"
     ]
    }
   ],
   "source": [
    "array = np.array([[1, 2, 3], [4, 5, 6]])\n",
    "print(array.ndim)  # Output: 2\n"
   ]
  },
  {
   "cell_type": "code",
   "execution_count": 27,
   "id": "37c67419-c7e2-4ffe-8510-a29b99a736f0",
   "metadata": {},
   "outputs": [
    {
     "name": "stdout",
     "output_type": "stream",
     "text": [
      "6\n"
     ]
    }
   ],
   "source": [
    "array = np.array([[1, 2], [3, 4], [5, 6]])\n",
    "print(array.size)  # Output: 6\n"
   ]
  },
  {
   "cell_type": "code",
   "execution_count": 28,
   "id": "4137f6f8-ac54-445e-bfc2-ad7e0128e62c",
   "metadata": {},
   "outputs": [
    {
     "name": "stdout",
     "output_type": "stream",
     "text": [
      "float64\n"
     ]
    }
   ],
   "source": [
    "array = np.array([1.5, 2.5, 3.5])\n",
    "print(array.dtype)  # Output: float64\n"
   ]
  },
  {
   "cell_type": "markdown",
   "id": "3dc56ea7-744b-4d82-8e34-daeeb625a6aa",
   "metadata": {},
   "source": []
  },
  {
   "cell_type": "markdown",
   "id": "9078fe6f-c1b6-4cd2-856c-421b68f58eb6",
   "metadata": {},
   "source": [
    "## Data Manipulation"
   ]
  },
  {
   "cell_type": "code",
   "execution_count": 29,
   "id": "2849ae49-49e3-4b20-8769-6c55b5f3c11f",
   "metadata": {},
   "outputs": [
    {
     "name": "stdout",
     "output_type": "stream",
     "text": [
      "11\n",
      "37\n",
      "58\n"
     ]
    }
   ],
   "source": [
    "array = np.array([11, 27, 37, 44, 58])\n",
    "print(array[0])  \n",
    "print(array[2]) \n",
    "print(array[-1]) "
   ]
  },
  {
   "cell_type": "code",
   "execution_count": 30,
   "id": "d968f47e-6593-4a84-b519-81d95596750a",
   "metadata": {},
   "outputs": [
    {
     "name": "stdout",
     "output_type": "stream",
     "text": [
      "[[4 5 6]\n",
      " [7 8 9]]\n",
      "[[2 3]\n",
      " [5 6]\n",
      " [8 9]]\n"
     ]
    }
   ],
   "source": [
    "array_2d = np.array([[1, 2, 3], [4, 5, 6], [7, 8, 9]])\n",
    "print(array_2d[1:3, :])  \n",
    "print(array_2d[:, 1:3])"
   ]
  },
  {
   "cell_type": "code",
   "execution_count": 31,
   "id": "58db7305-671d-4247-a94a-cb7e4021b810",
   "metadata": {},
   "outputs": [
    {
     "name": "stdout",
     "output_type": "stream",
     "text": [
      "[[[ 0  4  8]\n",
      "  [ 1  5  9]\n",
      "  [ 2  6 10]\n",
      "  [ 3  7 11]]\n",
      "\n",
      " [[12 16 20]\n",
      "  [13 17 21]\n",
      "  [14 18 22]\n",
      "  [15 19 23]]]\n"
     ]
    }
   ],
   "source": [
    "array = np.arange(24).reshape((2, 3, 4))\n",
    "swapped_array = array.swapaxes(1, 2)\n",
    "print(swapped_array)"
   ]
  },
  {
   "cell_type": "code",
   "execution_count": null,
   "id": "28212983-2534-4edc-a3d7-a8d89f1d4a0a",
   "metadata": {},
   "outputs": [],
   "source": []
  },
  {
   "cell_type": "markdown",
   "id": "f3aa4f07-ead2-4c31-a3fc-28c72681f9b0",
   "metadata": {},
   "source": [
    "## Data Aggregation"
   ]
  },
  {
   "cell_type": "code",
   "execution_count": 32,
   "id": "489ebc35-7ab1-4ff9-91ba-b995142bd5aa",
   "metadata": {},
   "outputs": [
    {
     "name": "stdout",
     "output_type": "stream",
     "text": [
      "15\n"
     ]
    }
   ],
   "source": [
    "import numpy as np\n",
    "array = np.array([1, 2, 3, 4, 5])\n",
    "total_sum = np.sum(array)\n",
    "print(total_sum) "
   ]
  },
  {
   "cell_type": "code",
   "execution_count": 33,
   "id": "f17e17f9-20ee-4813-907d-01388057e8fe",
   "metadata": {},
   "outputs": [
    {
     "name": "stdout",
     "output_type": "stream",
     "text": [
      "Mean: 3.0\n"
     ]
    }
   ],
   "source": [
    "data = np.array([1, 2, 3, 4, 5])\n",
    "mean_value = np.mean(data)\n",
    "print(\"Mean:\", mean_value)  "
   ]
  },
  {
   "cell_type": "code",
   "execution_count": 34,
   "id": "e92f2bde-f03e-4df9-bf9d-d74a6a0486b2",
   "metadata": {},
   "outputs": [
    {
     "name": "stdout",
     "output_type": "stream",
     "text": [
      "Median: 3.0\n"
     ]
    }
   ],
   "source": [
    "median_value = np.median(data)\n",
    "print(\"Median:\", median_value) "
   ]
  },
  {
   "cell_type": "code",
   "execution_count": 35,
   "id": "e6fe5312-761e-4b79-a8ee-95d84d00119c",
   "metadata": {},
   "outputs": [
    {
     "name": "stdout",
     "output_type": "stream",
     "text": [
      "Standard Deviation: 1.4142135623730951\n"
     ]
    }
   ],
   "source": [
    "std_dev = np.std(data)\n",
    "print(\"Standard Deviation:\", std_dev) "
   ]
  },
  {
   "cell_type": "code",
   "execution_count": 36,
   "id": "79a99041-aa41-484a-b900-f86493f91dff",
   "metadata": {},
   "outputs": [
    {
     "name": "stdout",
     "output_type": "stream",
     "text": [
      "Sum: 15\n"
     ]
    }
   ],
   "source": [
    "total_sum = np.sum(data)\n",
    "print(\"Sum:\", total_sum)"
   ]
  },
  {
   "cell_type": "code",
   "execution_count": null,
   "id": "aedd31dc-c3fb-47a6-8915-8ae743cc6bdb",
   "metadata": {},
   "outputs": [],
   "source": []
  },
  {
   "cell_type": "markdown",
   "id": "d7d6e1f5-69d2-45ee-80f1-fbb6c47d77dd",
   "metadata": {},
   "source": [
    "## Data Analysis"
   ]
  },
  {
   "cell_type": "code",
   "execution_count": 38,
   "id": "43719437-3040-4b34-b4d3-b13ef13f7f09",
   "metadata": {},
   "outputs": [
    {
     "name": "stdout",
     "output_type": "stream",
     "text": [
      "Correlation coefficient: -0.9999999999999999\n"
     ]
    }
   ],
   "source": [
    "data1 = np.array([1, 2, 3, 4, 5])\n",
    "data2 = np.array([5, 4, 3, 2, 1])\n",
    "\n",
    "# Compute correlation coefficient\n",
    "correlation = np.corrcoef(data1, data2)[0, 1]\n",
    "print(\"Correlation coefficient:\", correlation) "
   ]
  },
  {
   "cell_type": "code",
   "execution_count": 39,
   "id": "313d0c65-d567-4ee2-8e52-bff123073126",
   "metadata": {},
   "outputs": [
    {
     "name": "stdout",
     "output_type": "stream",
     "text": [
      "Outliers: [100]\n"
     ]
    }
   ],
   "source": [
    "data = np.array([10, 12, 12, 13, 12, 100])  # 100 is an outlier\n",
    "\n",
    "# Calculate Z-scores\n",
    "mean = np.mean(data)\n",
    "std_dev = np.std(data)\n",
    "z_scores = (data - mean) / std_dev\n",
    "\n",
    "# Identify outliers\n",
    "outliers = data[np.abs(z_scores) > 2]\n",
    "print(\"Outliers:\", outliers)  # Output: Outliers: [100]\n"
   ]
  },
  {
   "cell_type": "code",
   "execution_count": 40,
   "id": "f1315252-438b-4a78-a3eb-99aeda6f3ed0",
   "metadata": {},
   "outputs": [
    {
     "name": "stdout",
     "output_type": "stream",
     "text": [
      "25th Percentile: 20.0\n",
      "75th Percentile: 40.0\n"
     ]
    }
   ],
   "source": [
    "data = np.array([10, 20, 30, 40, 50])\n",
    "\n",
    "# Calculate percentiles\n",
    "percentile_25 = np.percentile(data, 25)\n",
    "percentile_75 = np.percentile(data, 75)\n",
    "\n",
    "print(\"25th Percentile:\", percentile_25)  # Output: 25th Percentile: 20.0\n",
    "print(\"75th Percentile:\", percentile_75)  # Output: 75th Percentile: 40.0\n"
   ]
  },
  {
   "cell_type": "code",
   "execution_count": 41,
   "id": "dfae914d-4e31-4f0a-a3fd-5999f165159f",
   "metadata": {},
   "outputs": [
    {
     "name": "stdout",
     "output_type": "stream",
     "text": [
      "Mean of large dataset: 0.5005314478299429\n",
      "Standard Deviation of large dataset: 0.2888059302178745\n"
     ]
    }
   ],
   "source": [
    "# Create a large dataset\n",
    "large_data = np.random.rand(1000000)  # 1 million random numbers\n",
    "\n",
    "# Compute mean and standard deviation efficiently\n",
    "mean_large = np.mean(large_data)\n",
    "std_dev_large = np.std(large_data)\n",
    "\n",
    "print(\"Mean of large dataset:\", mean_large)\n",
    "print(\"Standard Deviation of large dataset:\", std_dev_large)"
   ]
  },
  {
   "cell_type": "code",
   "execution_count": null,
   "id": "1c4c7007-4291-4445-992a-136995e75c79",
   "metadata": {},
   "outputs": [],
   "source": []
  },
  {
   "cell_type": "markdown",
   "id": "05b97acc-9c49-43a3-a8ca-f9d34c5cb22b",
   "metadata": {},
   "source": [
    "## Advantages of Numpy"
   ]
  },
  {
   "cell_type": "markdown",
   "id": "d1d0b9b0-f0a6-4a57-94ac-a45b91b79b6d",
   "metadata": {},
   "source": [
    "NumPy offers significant advantages over traditional Python data structures for numerical computations:\n",
    "\n",
    "1. Performance: NumPy arrays are implemented in C, providing faster computation compared to Python lists due to optimized memory handling and vectorized operations.\n",
    "2. Memory Efficiency: NumPy arrays consume less memory than Python lists by using contiguous blocks of memory, which reduces overhead and improves performance.\n",
    "3. Convenient Operations: NumPy supports element-wise operations and broadcasting, simplifying complex mathematical computations and reducing the need for explicit loops.\n",
    "4. Advanced Functions: NumPy provides a vast array of mathematical functions, including linear algebra, statistical analysis, and Fourier transforms, which are not natively available in Python lists.\n",
    "5. Multi-dimensional Arrays: NumPy handles multi-dimensional arrays (e.g., matrices, tensors) efficiently, enabling sophisticated data manipulations and analyses.\n",
    "6. Integration: NumPy integrates seamlessly with other scientific libraries like SciPy, Pandas, and Matplotlib, creating a robust ecosystem for data science and analysis.\n",
    "\n",
    "### Real-World Examples:\n",
    "\n",
    "1. Machine Learning: In machine learning, NumPy is crucial for handling and preprocessing large datasets. For instance, in training neural networks, NumPy arrays are used to represent feature matrices and perform operations like matrix multiplication.\n",
    "2. Financial Analysis: Financial analysts use NumPy for tasks such as modeling stock prices and calculating moving averages. The ability to handle large datasets and perform complex calculations efficiently is vital for real-time trading algorithms.\n",
    "3. Scientific Research: In scientific research, NumPy is employed for simulations, data analysis, and visualization. For example, it is used in astrophysics to analyze large-scale astronomical data and in biology for genetic sequence analysis. \n",
    "\n",
    "Overall, NumPy’s efficiency and extensive functionality make it an essential tool in fields requiring high-performance numerical computations."
   ]
  },
  {
   "cell_type": "code",
   "execution_count": 42,
   "id": "84fda8da-3c77-4fae-8472-7d9a41788e5b",
   "metadata": {},
   "outputs": [
    {
     "name": "stdout",
     "output_type": "stream",
     "text": [
      "Requirement already satisfied: pandoc in c:\\users\\sampa\\appdata\\local\\programs\\python\\python312\\lib\\site-packages (2.4)\n",
      "Requirement already satisfied: plumbum in c:\\users\\sampa\\appdata\\local\\programs\\python\\python312\\lib\\site-packages (from pandoc) (1.8.3)\n",
      "Requirement already satisfied: ply in c:\\users\\sampa\\appdata\\local\\programs\\python\\python312\\lib\\site-packages (from pandoc) (3.11)\n",
      "Requirement already satisfied: pywin32 in c:\\users\\sampa\\appdata\\local\\programs\\python\\python312\\lib\\site-packages (from plumbum->pandoc) (306)\n",
      "Note: you may need to restart the kernel to use updated packages.\n"
     ]
    }
   ],
   "source": [
    "pip install --upgrade pandoc\n"
   ]
  },
  {
   "cell_type": "code",
   "execution_count": null,
   "id": "3ace441d-fe51-43af-9618-21dbed9b7aa5",
   "metadata": {},
   "outputs": [],
   "source": []
  }
 ],
 "metadata": {
  "kernelspec": {
   "display_name": "Python 3 (ipykernel)",
   "language": "python",
   "name": "python3"
  },
  "language_info": {
   "codemirror_mode": {
    "name": "ipython",
    "version": 3
   },
   "file_extension": ".py",
   "mimetype": "text/x-python",
   "name": "python",
   "nbconvert_exporter": "python",
   "pygments_lexer": "ipython3",
   "version": "3.12.4"
  }
 },
 "nbformat": 4,
 "nbformat_minor": 5
}
